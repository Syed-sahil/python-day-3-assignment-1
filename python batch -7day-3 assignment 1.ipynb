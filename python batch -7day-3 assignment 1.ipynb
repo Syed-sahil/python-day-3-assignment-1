{
 "cells": [
  {
   "cell_type": "code",
   "execution_count": null,
   "metadata": {},
   "outputs": [
    {
     "name": "stdout",
     "output_type": "stream",
     "text": [
      "enter the altitude:1000\n",
      "safe to land\n",
      "enter the altitude:3400\n",
      "bring down to 1000\n",
      "enter the altitude:6700\n",
      "turn around\n"
     ]
    }
   ],
   "source": [
    "for num in range(1000,10001):\n",
    "    num=int(input(\"enter the altitude:\"))\n",
    "    if num==1000:\n",
    "        print(\"safe to land\")\n",
    "    elif num>1000 and num<5000:\n",
    "        print(\"bring down to 1000\")\n",
    "    else:\n",
    "        print(\"turn around\")"
   ]
  },
  {
   "cell_type": "code",
   "execution_count": null,
   "metadata": {},
   "outputs": [],
   "source": []
  },
  {
   "cell_type": "code",
   "execution_count": null,
   "metadata": {},
   "outputs": [],
   "source": []
  },
  {
   "cell_type": "code",
   "execution_count": null,
   "metadata": {},
   "outputs": [],
   "source": []
  }
 ],
 "metadata": {
  "kernelspec": {
   "display_name": "Python 3",
   "language": "python",
   "name": "python3"
  },
  "language_info": {
   "codemirror_mode": {
    "name": "ipython",
    "version": 3
   },
   "file_extension": ".py",
   "mimetype": "text/x-python",
   "name": "python",
   "nbconvert_exporter": "python",
   "pygments_lexer": "ipython3",
   "version": "3.8.3"
  }
 },
 "nbformat": 4,
 "nbformat_minor": 4
}
